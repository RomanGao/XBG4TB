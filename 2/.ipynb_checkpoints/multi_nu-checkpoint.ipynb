{
 "cells": [
  {
   "cell_type": "code",
   "execution_count": 1,
   "id": "existing-brunswick",
   "metadata": {},
   "outputs": [
    {
     "name": "stderr",
     "output_type": "stream",
     "text": [
      "d:\\codingtool\\anoconda3\\envs\\py36\\lib\\importlib\\_bootstrap.py:219: RuntimeWarning: numpy.ufunc size changed, may indicate binary incompatibility. Expected 192 from C header, got 216 from PyObject\n",
      "  return f(*args, **kwds)\n"
     ]
    }
   ],
   "source": [
    "import pandas as pd\n",
    "import numpy as np\n",
    "import matplotlib.pyplot as plt\n",
    "import os \n",
    "import collections"
   ]
  },
  {
   "cell_type": "code",
   "execution_count": 2,
   "id": "purple-identity",
   "metadata": {},
   "outputs": [],
   "source": [
    "genes = ['ahpc','embA','embB','embC','embR','fabG1','inhA','iniC','iniA','katG','ndh','rpoB','manB','rmlD','pcnA','rpsA']"
   ]
  },
  {
   "cell_type": "code",
   "execution_count": 3,
   "id": "accepted-chair",
   "metadata": {},
   "outputs": [
    {
     "data": {
      "text/html": [
       "<div>\n",
       "<style scoped>\n",
       "    .dataframe tbody tr th:only-of-type {\n",
       "        vertical-align: middle;\n",
       "    }\n",
       "\n",
       "    .dataframe tbody tr th {\n",
       "        vertical-align: top;\n",
       "    }\n",
       "\n",
       "    .dataframe thead th {\n",
       "        text-align: right;\n",
       "    }\n",
       "</style>\n",
       "<table border=\"1\" class=\"dataframe\">\n",
       "  <thead>\n",
       "    <tr style=\"text-align: right;\">\n",
       "      <th></th>\n",
       "      <th>ISOLATID</th>\n",
       "      <th>NUCHANGE</th>\n",
       "      <th>MSDRUG</th>\n",
       "      <th>label</th>\n",
       "    </tr>\n",
       "  </thead>\n",
       "  <tbody>\n",
       "    <tr>\n",
       "      <th>0</th>\n",
       "      <td>SRR2099974</td>\n",
       "      <td>615A&gt;G</td>\n",
       "      <td>ETHAMBUTOL</td>\n",
       "      <td>1</td>\n",
       "    </tr>\n",
       "    <tr>\n",
       "      <th>1</th>\n",
       "      <td>SRR2099974</td>\n",
       "      <td>615A&gt;G</td>\n",
       "      <td>RIFAMPICIN</td>\n",
       "      <td>1</td>\n",
       "    </tr>\n",
       "    <tr>\n",
       "      <th>2</th>\n",
       "      <td>SRR2099974</td>\n",
       "      <td>615A&gt;G</td>\n",
       "      <td>PYRAZINAMIDE</td>\n",
       "      <td>0</td>\n",
       "    </tr>\n",
       "    <tr>\n",
       "      <th>3</th>\n",
       "      <td>SRR2099974</td>\n",
       "      <td>615A&gt;G</td>\n",
       "      <td>ISONIAZID</td>\n",
       "      <td>1</td>\n",
       "    </tr>\n",
       "    <tr>\n",
       "      <th>4</th>\n",
       "      <td>SRR2099974</td>\n",
       "      <td>223C&gt;T</td>\n",
       "      <td>ETHAMBUTOL</td>\n",
       "      <td>1</td>\n",
       "    </tr>\n",
       "    <tr>\n",
       "      <th>...</th>\n",
       "      <td>...</td>\n",
       "      <td>...</td>\n",
       "      <td>...</td>\n",
       "      <td>...</td>\n",
       "    </tr>\n",
       "    <tr>\n",
       "      <th>30315007</th>\n",
       "      <td>IFP-bfca1a36</td>\n",
       "      <td>3341G&gt;A</td>\n",
       "      <td>ETHAMBUTOL</td>\n",
       "      <td>0</td>\n",
       "    </tr>\n",
       "    <tr>\n",
       "      <th>30315008</th>\n",
       "      <td>IFP-bfca1a36</td>\n",
       "      <td>1127C&gt;G</td>\n",
       "      <td>STREPTOMYCIN</td>\n",
       "      <td>0</td>\n",
       "    </tr>\n",
       "    <tr>\n",
       "      <th>30315009</th>\n",
       "      <td>IFP-bfca1a36</td>\n",
       "      <td>1127C&gt;G</td>\n",
       "      <td>ISONIAZID</td>\n",
       "      <td>0</td>\n",
       "    </tr>\n",
       "    <tr>\n",
       "      <th>30315010</th>\n",
       "      <td>IFP-bfca1a36</td>\n",
       "      <td>1127C&gt;G</td>\n",
       "      <td>RIFAMPICIN</td>\n",
       "      <td>0</td>\n",
       "    </tr>\n",
       "    <tr>\n",
       "      <th>30315011</th>\n",
       "      <td>IFP-bfca1a36</td>\n",
       "      <td>1127C&gt;G</td>\n",
       "      <td>ETHAMBUTOL</td>\n",
       "      <td>0</td>\n",
       "    </tr>\n",
       "  </tbody>\n",
       "</table>\n",
       "<p>30315012 rows × 4 columns</p>\n",
       "</div>"
      ],
      "text/plain": [
       "              ISOLATID NUCHANGE        MSDRUG  label\n",
       "0           SRR2099974   615A>G    ETHAMBUTOL      1\n",
       "1           SRR2099974   615A>G    RIFAMPICIN      1\n",
       "2           SRR2099974   615A>G  PYRAZINAMIDE      0\n",
       "3           SRR2099974   615A>G     ISONIAZID      1\n",
       "4           SRR2099974   223C>T    ETHAMBUTOL      1\n",
       "...                ...      ...           ...    ...\n",
       "30315007  IFP-bfca1a36  3341G>A    ETHAMBUTOL      0\n",
       "30315008  IFP-bfca1a36  1127C>G  STREPTOMYCIN      0\n",
       "30315009  IFP-bfca1a36  1127C>G     ISONIAZID      0\n",
       "30315010  IFP-bfca1a36  1127C>G    RIFAMPICIN      0\n",
       "30315011  IFP-bfca1a36  1127C>G    ETHAMBUTOL      0\n",
       "\n",
       "[30315012 rows x 4 columns]"
      ]
     },
     "execution_count": 3,
     "metadata": {},
     "output_type": "execute_result"
    }
   ],
   "source": [
    "pf_df = pd.read_csv(\"../1_data/pff_msf_nu.csv\")\n",
    "pf_df"
   ]
  },
  {
   "cell_type": "code",
   "execution_count": null,
   "id": "looking-immigration",
   "metadata": {},
   "outputs": [],
   "source": []
  }
 ],
 "metadata": {
  "kernelspec": {
   "display_name": "Python 3",
   "language": "python",
   "name": "python3"
  },
  "language_info": {
   "codemirror_mode": {
    "name": "ipython",
    "version": 3
   },
   "file_extension": ".py",
   "mimetype": "text/x-python",
   "name": "python",
   "nbconvert_exporter": "python",
   "pygments_lexer": "ipython3",
   "version": "3.6.12"
  }
 },
 "nbformat": 4,
 "nbformat_minor": 5
}
